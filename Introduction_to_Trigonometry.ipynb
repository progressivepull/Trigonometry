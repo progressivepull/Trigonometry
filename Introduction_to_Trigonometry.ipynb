{
  "metadata": {
    "kernelspec": {
      "name": "python",
      "display_name": "Python (Pyodide)",
      "language": "python"
    },
    "language_info": {
      "codemirror_mode": {
        "name": "python",
        "version": 3
      },
      "file_extension": ".py",
      "mimetype": "text/x-python",
      "name": "python",
      "nbconvert_exporter": "python",
      "pygments_lexer": "ipython3",
      "version": "3.8"
    }
  },
  "nbformat_minor": 5,
  "nbformat": 4,
  "cells": [
    {
      "id": "dc0c52b8-f221-4f63-9318-807475830744",
      "cell_type": "markdown",
      "source": "# Introduction to Trigonometry with Python\n\nTrigonometry is a branch of mathematics focused on the relationships between the angles and sides of triangles, especially right-angled triangles. In this tutorial, we'll introduce the basics of trigonometry, trigonometric ratios, and demonstrate how to work with them using Python.\n\n---",
      "metadata": {}
    },
    {
      "id": "3e7f094c-7050-4f9b-8f4e-047534237d71",
      "cell_type": "markdown",
      "source": "## 1. Understanding Angles\n\n- **Angle**: Formed by two rays (the sides of the angle) sharing a common endpoint (the vertex).\n- **Units**: Angles are commonly measured in degrees (°) or radians (rad).\n    - 360° = 2π radians\n    - 180° = π radians",
      "metadata": {}
    },
    {
      "id": "156877f8-8b11-400f-854c-0e8893ef1457",
      "cell_type": "markdown",
      "source": "**Python Example: Converting Degrees to Radians and Vice Versa**",
      "metadata": {}
    },
    {
      "id": "9b4a89f9-469b-4e7a-965d-093a10574dc0",
      "cell_type": "code",
      "source": "import math\n\ndegrees = 90\nradians = math.radians(degrees)\nprint(f\"{degrees} degrees in radians is {radians}\")\n\nradians = math.pi / 3\ndegrees = math.degrees(radians)\nprint(f\"{radians} radians in degrees is {degrees}\")",
      "metadata": {
        "trusted": true
      },
      "outputs": [
        {
          "name": "stdout",
          "output_type": "stream",
          "text": "90 degrees in radians is 1.5707963267948966\n1.0471975511965976 radians in degrees is 59.99999999999999\n"
        }
      ],
      "execution_count": 1
    },
    {
      "id": "9ae0ddd3-e9c6-40c2-ba47-bc560e377e0c",
      "cell_type": "markdown",
      "source": "## 2. Trigonometric Ratios\n\nIn a right-angled triangle, the trigonometric ratios relate the angles to the lengths of the sides. The main ratios are:\n\n- **Sine (sin θ)**: Opposite / Hypotenuse\n- **Cosine (cos θ)**: Adjacent / Hypotenuse\n- **Tangent (tan θ)**: Opposite / Adjacent\n\n**Mnemonic:** SOH-CAH-TOA\n\n```\nsin θ = Opposite / Hypotenuse\ncos θ = Adjacent / Hypotenuse\ntan θ = Opposite / Adjacent\n```",
      "metadata": {}
    },
    {
      "id": "79d23a1c-afb2-43a3-b84e-bafc51ca0f9d",
      "cell_type": "markdown",
      "source": "**Python Example: Calculating Trigonometric Ratios**",
      "metadata": {}
    },
    {
      "id": "78fca439-ad15-4a5b-8e19-78b715167814",
      "cell_type": "code",
      "source": "import math\n\nangle_deg = 30\nangle_rad = math.radians(angle_deg)\n\nsin_val = math.sin(angle_rad)\ncos_val = math.cos(angle_rad)\ntan_val = math.tan(angle_rad)\n\nprint(f\"sin({angle_deg}) = {sin_val}\")\nprint(f\"cos({angle_deg}) = {cos_val}\")\nprint(f\"tan({angle_deg}) = {tan_val}\")",
      "metadata": {
        "trusted": true
      },
      "outputs": [
        {
          "name": "stdout",
          "output_type": "stream",
          "text": "sin(30) = 0.49999999999999994\ncos(30) = 0.8660254037844387\ntan(30) = 0.5773502691896257\n"
        }
      ],
      "execution_count": 2
    },
    {
      "id": "0e386641-f089-4824-83cf-86fe59834852",
      "cell_type": "markdown",
      "source": "## 3. Inverse Trigonometric Functions\n\nTo find the angle from a ratio, use the inverse functions:\n\n- **arcsin, arccos, arctan**",
      "metadata": {}
    },
    {
      "id": "eff926d7-0c9c-490a-b461-e433af4953c4",
      "cell_type": "markdown",
      "source": "**Python Example: Calculating Angles from Ratios**",
      "metadata": {}
    },
    {
      "id": "800ac5f9-1a49-47ae-8a41-eadf800ad684",
      "cell_type": "code",
      "source": "import math\n\nopp = 1\nhyp = 2\nadj = math.sqrt(hyp**2 - opp**2)  # Using Pythagoras' theorem\n\nangle_rad = math.asin(opp / hyp)\nangle_deg = math.degrees(angle_rad)\nprint(f\"Angle whose sine is {opp}/{hyp} is {angle_deg} degrees\")",
      "metadata": {
        "trusted": true
      },
      "outputs": [
        {
          "name": "stdout",
          "output_type": "stream",
          "text": "Angle whose sine is 1/2 is 30.000000000000004 degrees\n"
        }
      ],
      "execution_count": 3
    },
    {
      "id": "fedf0a9d-9213-44ee-9c96-f1e3ff537ea8",
      "cell_type": "markdown",
      "source": "## 4. Applications of Trigonometry\n\nTrigonometry has many applications in science, engineering, architecture, astronomy, and more. Common uses include:\n\n- Measuring heights and distances\n- Navigating using angles and bearings\n- Modeling periodic phenomena (e.g., sound, light, waves)",
      "metadata": {}
    },
    {
      "id": "2835852b-2ece-4ad9-8a6d-083101d6b78e",
      "cell_type": "markdown",
      "source": "### Example: Calculating the Height of a Building\n\nSuppose you stand 50 meters away from a building and measure the angle of elevation to the top as 30°.\n\n**Height Calculation Using tan θ:**\n\n```\ntan(θ) = Opposite / Adjacent\nOpposite (height) = tan(θ) * Adjacent\n```",
      "metadata": {}
    },
    {
      "id": "44c14ef5-5dcc-4e12-bf6a-2302867b7c95",
      "cell_type": "code",
      "source": "import math\n\ndistance = 50  # meters\nangle_deg = 30\nangle_rad = math.radians(angle_deg)\n\nheight = math.tan(angle_rad) * distance\nprint(f\"The height of the building is {height:.2f} meters\")",
      "metadata": {
        "trusted": true
      },
      "outputs": [
        {
          "name": "stdout",
          "output_type": "stream",
          "text": "The height of the building is 28.87 meters\n"
        }
      ],
      "execution_count": 4
    },
    {
      "id": "3850cc4e-93b3-43e1-b8e3-5f12f3f19d64",
      "cell_type": "markdown",
      "source": "## 5. Summary Table of Trigonometric Functions in Python\n\n| Function     | Python Method      | Example                      |\n|--------------|-------------------|------------------------------|\n| sin(θ)       | `math.sin(x)`     | `math.sin(math.radians(30))` |\n| cos(θ)       | `math.cos(x)`     | `math.cos(math.radians(60))` |\n| tan(θ)       | `math.tan(x)`     | `math.tan(math.radians(45))` |\n| arcsin(x)    | `math.asin(x)`    | `math.degrees(math.asin(0.5))` |\n| arccos(x)    | `math.acos(x)`    | `math.degrees(math.acos(0.5))` |\n| arctan(x)    | `math.atan(x)`    | `math.degrees(math.atan(1))`   |",
      "metadata": {}
    },
    {
      "id": "66cd1ce7-15d0-462a-9e87-02eca14d623e",
      "cell_type": "markdown",
      "source": "---\n\n## Conclusion\n\nTrigonometry is essential for understanding relationships involving angles and lengths. Python's `math` module makes it easy to perform trigonometric calculations, visualize results, and solve real-world problems.",
      "metadata": {}
    },
    {
      "id": "58ed0229-3fd8-4a87-b909-15b6e3d25913",
      "cell_type": "markdown",
      "source": "# [Trigonometry Context](./README.md)",
      "metadata": {}
    }
  ]
}