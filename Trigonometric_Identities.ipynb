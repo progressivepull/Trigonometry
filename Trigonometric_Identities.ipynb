{
  "metadata": {
    "kernelspec": {
      "name": "python",
      "display_name": "Python (Pyodide)",
      "language": "python"
    },
    "language_info": {
      "codemirror_mode": {
        "name": "python",
        "version": 3
      },
      "file_extension": ".py",
      "mimetype": "text/x-python",
      "name": "python",
      "nbconvert_exporter": "python",
      "pygments_lexer": "ipython3",
      "version": "3.8"
    }
  },
  "nbformat_minor": 5,
  "nbformat": 4,
  "cells": [
    {
      "id": "b98db313-8ece-4d92-92ed-178816e3a12c",
      "cell_type": "markdown",
      "source": "# Trigonometric Identities in Python\n\nThis tutorial introduces important trigonometric identities and demonstrates how you can verify them using Python’s `math` module.\n",
      "metadata": {}
    },
    {
      "id": "ca4e0ec9-79b6-4843-b561-e1d40e354b5c",
      "cell_type": "markdown",
      "source": "## 1. Pythagorean Identities\n\nThe Pythagorean identities are fundamental relationships among sine, cosine, and tangent:\n\n$$\n\\sin^2(x) + \\cos^2(x) = 1\n$$\n\n$$\n1 + \\tan^2(x) = \\sec^2(x)\n$$\n\n$$\n1 + \\cot^2(x) = \\csc^2(x)\n$$\n\n**Python Verification Example:**",
      "metadata": {}
    },
    {
      "id": "7c6ca30b-9cf2-4db2-84b7-0d9dc5966b24",
      "cell_type": "code",
      "source": "import math\n\nangle = math.radians(45)\nlhs = math.sin(angle)**2 + math.cos(angle)**2  # Should be 1\nprint(f\"sin^2(45°) + cos^2(45°) = {lhs}\")\n\nlhs2 = 1 + math.tan(angle)**2\nrhs2 = 1 / math.cos(angle)**2  # sec^2(x)\nprint(f\"1 + tan^2(45°) = {lhs2}, sec^2(45°) = {rhs2}\")",
      "metadata": {
        "trusted": true
      },
      "outputs": [
        {
          "name": "stdout",
          "output_type": "stream",
          "text": "sin^2(45°) + cos^2(45°) = 1.0\n1 + tan^2(45°) = 1.9999999999999998, sec^2(45°) = 1.9999999999999996\n"
        }
      ],
      "execution_count": 1
    },
    {
      "id": "cace293e-0434-42b5-b727-f4cd19eb19ac",
      "cell_type": "markdown",
      "source": "## 2. Sum and Difference Formulas\n\nFor any angles A and B:\n\n$$\n\\sin(A \\pm B) = \\sin A \\cos B \\pm \\cos A \\sin B\n$$\n\n$$\n\\cos(A \\pm B) = \\cos A \\cos B \\mp \\sin A \\sin B\n$$\n\n$$\n\\tan(A \\pm B) = \\frac{\\tan A \\pm \\tan B}{1 \\mp \\tan A \\tan B}\n$$",
      "metadata": {}
    },
    {
      "id": "4df36195-f75a-4527-a210-3126bc3d5101",
      "cell_type": "code",
      "source": "A = math.radians(30)\nB = math.radians(45)\n\nsin_sum = math.sin(A) * math.cos(B) + math.cos(A) * math.sin(B)\nsin_actual = math.sin(A + B)\nprint(f\"sin(30° + 45°) = {sin_actual}, formula result = {sin_sum}\")\n\ncos_diff = math.cos(A) * math.cos(B) + math.sin(A) * math.sin(B)\ncos_actual = math.cos(A - B)\nprint(f\"cos(30° - 45°) = {cos_actual}, formula result = {cos_diff}\")",
      "metadata": {
        "trusted": true
      },
      "outputs": [
        {
          "name": "stdout",
          "output_type": "stream",
          "text": "sin(30° + 45°) = 0.9659258262890682, formula result = 0.9659258262890682\ncos(30° - 45°) = 0.9659258262890683, formula result = 0.9659258262890682\n"
        }
      ],
      "execution_count": 2
    },
    {
      "id": "c3aa4daa-b309-4476-ae3b-b1c94c70dd33",
      "cell_type": "markdown",
      "source": "## 3. Double Angle Identities\n\n$$\n\\sin(2x) = 2 \\sin x \\cos x\n$$\n$$\n\\cos(2x) = \\cos^2 x - \\sin^2 x = 2\\cos^2 x - 1 = 1 - 2\\sin^2 x\n$$\n$$\n\\tan(2x) = \\frac{2 \\tan x}{1 - \\tan^2 x}\n$$",
      "metadata": {}
    },
    {
      "id": "59e46428-b921-4733-9d00-7ca0854e5347",
      "cell_type": "code",
      "source": "x = math.radians(30)\nsin_double = 2 * math.sin(x) * math.cos(x)\nprint(f\"sin(2*30°) = {math.sin(2*x)}, formula = {sin_double}\")\n\ncos_double = math.cos(x)**2 - math.sin(x)**2\nprint(f\"cos(2*30°) = {math.cos(2*x)}, formula = {cos_double}\")\n\ntan_double = (2 * math.tan(x)) / (1 - math.tan(x)**2)\nprint(f\"tan(2*30°) = {math.tan(2*x)}, formula = {tan_double}\")",
      "metadata": {
        "trusted": true
      },
      "outputs": [
        {
          "name": "stdout",
          "output_type": "stream",
          "text": "sin(2*30°) = 0.8660254037844386, formula = 0.8660254037844386\ncos(2*30°) = 0.5000000000000001, formula = 0.5000000000000002\ntan(2*30°) = 1.7320508075688767, formula = 1.732050807568877\n"
        }
      ],
      "execution_count": 4
    },
    {
      "id": "6b977c45-4ea6-4ef1-9b98-eeaa8e87c325",
      "cell_type": "markdown",
      "source": "## 4. Half-Angle Identities\n\n$$\n\\sin^2\\left(\\frac{x}{2}\\right) = \\frac{1 - \\cos x}{2}\n$$\n$$\n\\cos^2\\left(\\frac{x}{2}\\right) = \\frac{1 + \\cos x}{2}\n$$\n$$\n\\tan\\left(\\frac{x}{2}\\right) = \\frac{1 - \\cos x}{\\sin x} = \\frac{\\sin x}{1 + \\cos x}\n$$",
      "metadata": {}
    },
    {
      "id": "6d45d82a-44bf-4faa-8e98-bbb3f14e744d",
      "cell_type": "code",
      "source": "x = math.radians(60)\nsin_half = math.sqrt((1 - math.cos(x)) / 2)\nprint(f\"sin(60°/2) = {math.sin(x/2)}, formula = {sin_half}\")\n\ncos_half = math.sqrt((1 + math.cos(x)) / 2)\nprint(f\"cos(60°/2) = {math.cos(x/2)}, formula = {cos_half}\")\n\ntan_half_1 = (1 - math.cos(x)) / math.sin(x)\ntan_half_2 = math.sin(x) / (1 + math.cos(x))\ntan_half_actual = math.tan(x / 2)\nprint(f\"tan(60°/2) = {tan_half_actual}, formula1 = {tan_half_1}, formula2 = {tan_half_2}\")",
      "metadata": {
        "trusted": true
      },
      "outputs": [
        {
          "name": "stdout",
          "output_type": "stream",
          "text": "sin(60°/2) = 0.49999999999999994, formula = 0.49999999999999994\ncos(60°/2) = 0.8660254037844387, formula = 0.8660254037844386\ntan(60°/2) = 0.5773502691896257, formula1 = 0.5773502691896256, formula2 = 0.5773502691896257\n"
        }
      ],
      "execution_count": 5
    },
    {
      "id": "46475b0a-fc36-4c79-ad79-886d72ffe9d2",
      "cell_type": "markdown",
      "source": "## 5. Summary Table\n\n| Identity Type     | Formula | Example (Degrees) | Python Code |\n|-------------------|---------|-------------------|-------------|\n| Pythagorean       | sin²x + cos²x = 1 | x = 45 | `math.sin(x)**2 + math.cos(x)**2` |\n| Sum Formula       | sin(A+B) = sinA cosB + cosA sinB | A=30, B=45 | `math.sin(A)*math.cos(B) + math.cos(A)*math.sin(B)` |\n| Double Angle      | sin(2x) = 2 sinx cosx | x = 30 | `2 * math.sin(x) * math.cos(x)` |\n| Half Angle        | sin²(x/2) = (1 - cosx)/2 | x = 60 | `(1 - math.cos(x))/2` |\n\n---",
      "metadata": {}
    },
    {
      "id": "277ad399-8b5f-4253-87a2-3a492de88fcc",
      "cell_type": "markdown",
      "source": "## 6. Practice\n\nTry substituting different angles into these identities and verifying that both sides of each equation are (almost) equal *(allow for small floating point errors)*.\n\n---",
      "metadata": {}
    },
    {
      "id": "7a0e1ccd-7415-4607-a6ba-a7345281ecc2",
      "cell_type": "markdown",
      "source": "## 7. Notes\n\n- Always use radians with Python’s trigonometric functions.\n- For floating-point comparisons, use `math.isclose(a, b)` to check if two values are approximately equal.",
      "metadata": {}
    },
    {
      "id": "5595e662-8c01-4823-afbd-dd959db9436c",
      "cell_type": "code",
      "source": "math.isclose(math.sin(x)**2 + math.cos(x)**2, 1)",
      "metadata": {
        "trusted": true
      },
      "outputs": [
        {
          "execution_count": 6,
          "output_type": "execute_result",
          "data": {
            "text/plain": "True"
          },
          "metadata": {}
        }
      ],
      "execution_count": 6
    },
    {
      "id": "4d3ec64a-cf67-430c-8f74-a1e252e1db0f",
      "cell_type": "markdown",
      "source": "# [Trigonometry Context](./README.md)",
      "metadata": {}
    }
  ]
}