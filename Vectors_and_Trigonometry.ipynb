{
  "metadata": {
    "kernelspec": {
      "name": "python",
      "display_name": "Python (Pyodide)",
      "language": "python"
    },
    "language_info": {
      "codemirror_mode": {
        "name": "python",
        "version": 3
      },
      "file_extension": ".py",
      "mimetype": "text/x-python",
      "name": "python",
      "nbconvert_exporter": "python",
      "pygments_lexer": "ipython3",
      "version": "3.8"
    }
  },
  "nbformat_minor": 5,
  "nbformat": 4,
  "cells": [
    {
      "id": "771250c8-906a-4c1c-8a2a-758112428088",
      "cell_type": "markdown",
      "source": "# Trigonometry in Python: Vectors, Dot Product, Cross Product, and Projections\n\nTrigonometry and vectors are closely connected in mathematics, physics, and engineering. In this tutorial, we'll use Python to understand:\n\n- Vectors and their representation\n- Dot product (scalar product)\n- Cross product (vector product)\n- Vector projection\n\nWe'll use the `numpy` library for vector operations.\n\n---",
      "metadata": {}
    },
    {
      "id": "cecac016-1aac-4498-8dff-55b3846f0dc0",
      "cell_type": "markdown",
      "source": "## 1. Vectors in Python\n\nA **vector** is a quantity with both magnitude and direction. In 2D or 3D, we represent vectors as arrays.",
      "metadata": {}
    },
    {
      "id": "b9a1ab95-558e-45e7-951b-130a829f98d9",
      "cell_type": "code",
      "source": "import numpy as np\n\n# 2D vector\na = np.array([3, 4])\nb = np.array([1, 2])\n\nprint(\"Vector a:\", a)\nprint(\"Vector b:\", b)",
      "metadata": {
        "trusted": true
      },
      "outputs": [
        {
          "name": "stdout",
          "output_type": "stream",
          "text": "Vector a: [3 4]\nVector b: [1 2]\n"
        }
      ],
      "execution_count": 1
    },
    {
      "id": "cf4f132c-5366-494f-ab73-a4a7ac2d6de6",
      "cell_type": "markdown",
      "source": "## 2. Dot Product\n\nThe **dot product** of vectors `a` and `b` is:\n$$\n\\mathbf{a} \\cdot \\mathbf{b} = |a||b|\\cos(\\theta) = a_xb_x + a_yb_y + ...\n$$\n\nIt returns a scalar.",
      "metadata": {}
    },
    {
      "id": "a379e7c9-b382-4af9-8f9f-5e7cffed68b7",
      "cell_type": "code",
      "source": "dot = np.dot(a, b)\nprint(\"Dot product:\", dot)",
      "metadata": {
        "trusted": true
      },
      "outputs": [
        {
          "name": "stdout",
          "output_type": "stream",
          "text": "Dot product: 11\n"
        }
      ],
      "execution_count": 2
    },
    {
      "id": "8accec9a-d9ed-4f0c-946c-3b08266f6540",
      "cell_type": "markdown",
      "source": "**Geometric meaning:**  \n- If dot > 0, vectors point in similar directions.\n- If dot = 0, vectors are orthogonal (perpendicular).\n- If dot < 0, vectors point in opposite directions.\n\n**Angle between vectors:**",
      "metadata": {}
    },
    {
      "id": "c7cf74ee-b18a-4b0f-9fb3-acf74948d08e",
      "cell_type": "code",
      "source": "cos_theta = dot / (np.linalg.norm(a) * np.linalg.norm(b))\ntheta = np.arccos(cos_theta)\nprint(\"Angle (degrees):\", np.degrees(theta))",
      "metadata": {
        "trusted": true
      },
      "outputs": [
        {
          "name": "stdout",
          "output_type": "stream",
          "text": "Angle (degrees): 10.304846468766044\n"
        }
      ],
      "execution_count": 3
    },
    {
      "id": "c998e6c5-ec15-46a3-9c61-c9474baa6428",
      "cell_type": "markdown",
      "source": "## 3. Cross Product\n\nThe **cross product** exists for 3D vectors and produces another vector orthogonal to both.\n\n$$\n\\mathbf{a} \\times \\mathbf{b} = (a_y b_z - a_z b_y,\\, a_z b_x - a_x b_z,\\, a_x b_y - a_y b_x)\n$$",
      "metadata": {}
    },
    {
      "id": "a27b2d33-ab71-4988-bf73-f6554ff9490c",
      "cell_type": "code",
      "source": "a3 = np.array([1, 2, 3])\nb3 = np.array([4, 5, 6])\n\ncross = np.cross(a3, b3)\nprint(\"Cross product:\", cross)",
      "metadata": {
        "trusted": true
      },
      "outputs": [
        {
          "name": "stdout",
          "output_type": "stream",
          "text": "Cross product: [-3  6 -3]\n"
        }
      ],
      "execution_count": 4
    },
    {
      "id": "9ae0cca7-1bd4-4b34-8807-928d8e8166a3",
      "cell_type": "markdown",
      "source": "**Magnitude:**  \n$$\n|\\mathbf{a} \\times \\mathbf{b}| = |a||b|\\sin(\\theta)\n$$\nThis gives the area of the parallelogram spanned by `a` and `b`.\n\n---",
      "metadata": {}
    },
    {
      "id": "f57e6a49-52be-47d7-bd4e-e3538a679cfc",
      "cell_type": "markdown",
      "source": "## 4. Vector Projection\n\nThe **projection** of `a` onto `b` (how much of `a` lies in the direction of `b`) is:\n\n$$\n\\text{proj}_\\mathbf{b} \\mathbf{a} = \\left( \\frac{\\mathbf{a} \\cdot \\mathbf{b}}{|\\mathbf{b}|^2} \\right) \\mathbf{b}\n$$",
      "metadata": {}
    },
    {
      "id": "74d8a021-e67b-4d46-8e84-57356b19d347",
      "cell_type": "code",
      "source": "def vector_projection(a, b):\n    # Project vector a onto b\n    b_norm = b / np.linalg.norm(b)\n    proj_length = np.dot(a, b_norm)\n    proj_vector = proj_length * b_norm\n    return proj_vector\n\na = np.array([3, 4])\nb = np.array([1, 0])\nproj = vector_projection(a, b)\nprint(\"Projection of a onto b:\", proj)",
      "metadata": {
        "trusted": true
      },
      "outputs": [
        {
          "name": "stdout",
          "output_type": "stream",
          "text": "Projection of a onto b: [3. 0.]\n"
        }
      ],
      "execution_count": 5
    },
    {
      "id": "ffd7b9a7-412b-4944-9a9a-d2a939c12e99",
      "cell_type": "markdown",
      "source": "**Visualization:**",
      "metadata": {}
    },
    {
      "id": "154ff506-a24a-4489-9c9b-04e8c51c7756",
      "cell_type": "code",
      "source": "import matplotlib.pyplot as plt\n\norigin = np.zeros(2)\nplt.quiver(*origin, *a, angles='xy', scale_units='xy', scale=1, color='blue', label='a')\nplt.quiver(*origin, *b, angles='xy', scale_units='xy', scale=1, color='red', label='b')\nplt.quiver(*origin, *proj, angles='xy', scale_units='xy', scale=1, color='green', label='proj_b(a)')\n\nplt.xlim(-1, 5)\nplt.ylim(-1, 5)\nplt.grid(True)\nplt.legend()\nplt.title(\"Vector Projection\")\nplt.show()",
      "metadata": {
        "trusted": true
      },
      "outputs": [
        {
          "name": "stderr",
          "output_type": "stream",
          "text": "Matplotlib is building the font cache; this may take a moment.\n"
        },
        {
          "output_type": "display_data",
          "data": {
            "text/plain": "<Figure size 640x480 with 1 Axes>",
            "image/png": "[encoded data removed]"
          },
          "metadata": {}
        }
      ],
      "execution_count": 6
    },
    {
      "id": "958092f1-98f3-4af3-9964-7ca38c1a2ee2",
      "cell_type": "markdown",
      "source": "## 5. Summary\n\n- **Dot product**: measures how much two vectors align.\n- **Cross product**: finds a vector perpendicular to two 3D vectors.\n- **Projection**: finds the component of one vector along another.\n\nWith `numpy` and `matplotlib`, vector operations and visualizations in Python are quick and intuitive!",
      "metadata": {}
    },
    {
      "id": "b6aa797e-6047-4093-9407-b966ab62eb1a",
      "cell_type": "markdown",
      "source": "# [Trigonometry Context](./README.md)",
      "metadata": {}
    }
  ]
}