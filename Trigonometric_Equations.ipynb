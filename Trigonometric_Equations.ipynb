{
  "metadata": {
    "kernelspec": {
      "name": "python",
      "display_name": "Python (Pyodide)",
      "language": "python"
    },
    "language_info": {
      "codemirror_mode": {
        "name": "python",
        "version": 3
      },
      "file_extension": ".py",
      "mimetype": "text/x-python",
      "name": "python",
      "nbconvert_exporter": "python",
      "pygments_lexer": "ipython3",
      "version": "3.8"
    }
  },
  "nbformat_minor": 5,
  "nbformat": 4,
  "cells": [
    {
      "id": "63c4248d-0c4e-402c-ba6d-f0c6bf29572c",
      "cell_type": "markdown",
      "source": "# Trigonometry Tutorial Using Python\n\nIn this tutorial, you'll learn how to solve trigonometric equations using Python. We'll cover:\n\n- Common trigonometric identities\n- Using NumPy for trigonometric functions\n- Solving basic trigonometric equations\n- Using inverse trigonometric functions to find angles\n\nLet's get started!\n\n---",
      "metadata": {}
    },
    {
      "id": "c29fa5e0-0503-4096-879b-84500f56387d",
      "cell_type": "markdown",
      "source": "## 1. **Trigonometric Identities**\n\nTrigonometric identities are equations involving trigonometric functions that are true for all values in their domains. Here are some common ones:\n\n- **Pythagorean Identity:**  \n  $$\\sin^2(x) + \\cos^2(x) = 1$$\n- **Tangent and Secant:**  \n  $$1 + \\tan^2(x) = \\sec^2(x)$$\n- **Sine and Cosine of Sum:**  \n  $$\\sin(a \\pm b) = \\sin a \\cos b \\pm \\cos a \\sin b$$  \n  $$\\cos(a \\pm b) = \\cos a \\cos b \\mp \\sin a \\sin b$$",
      "metadata": {}
    },
    {
      "id": "f0b0bee8-4d69-46d3-8a85-64cae07f3886",
      "cell_type": "markdown",
      "source": "## 2. **Using NumPy for Trigonometric Functions**\n\nPython's `numpy` library provides functions for sine, cosine, tangent, and their inverses. All angles are in **radians**.",
      "metadata": {}
    },
    {
      "id": "22263e08-308a-4aa1-a952-2538a300307c",
      "cell_type": "code",
      "source": "import numpy as np\n\n# Angle in degrees\nangle_deg = 30\n# Convert to radians\nangle_rad = np.deg2rad(angle_deg)\n\nprint(\"sin(30°):\", np.sin(angle_rad))\nprint(\"cos(30°):\", np.cos(angle_rad))\nprint(\"tan(30°):\", np.tan(angle_rad))",
      "metadata": {
        "trusted": true
      },
      "outputs": [
        {
          "name": "stdout",
          "output_type": "stream",
          "text": "sin(30°): 0.49999999999999994\ncos(30°): 0.8660254037844387\ntan(30°): 0.5773502691896257\n"
        }
      ],
      "execution_count": 2
    },
    {
      "id": "c4b60e13-2406-4291-aef8-2f41f7a50c71",
      "cell_type": "markdown",
      "source": "## 3. **Solving Trigonometric Equations**\n\n### **Example 1: Solve $\\sin(x) = 0.5$ for $ x $ in [0, 2π]**\n\nTo solve for $ x $:",
      "metadata": {}
    },
    {
      "id": "f0b7a3c9-115e-4b9d-9b4d-9c2d0438e48b",
      "cell_type": "code",
      "source": "import numpy as np\n\n# Target value\ny = 0.5\n\n# Find the principal value\nx1 = np.arcsin(y)\n# Second solution in [0, 2π]\nx2 = np.pi - x1\n\nprint(\"x1 (radians):\", x1)\nprint(\"x1 (degrees):\", np.rad2deg(x1))\nprint(\"x2 (radians):\", x2)\nprint(\"x2 (degrees):\", np.rad2deg(x2))",
      "metadata": {
        "trusted": true
      },
      "outputs": [
        {
          "name": "stdout",
          "output_type": "stream",
          "text": "x1 (radians): 0.5235987755982989\nx1 (degrees): 30.000000000000004\nx2 (radians): 2.617993877991494\nx2 (degrees): 149.99999999999997\n"
        }
      ],
      "execution_count": 3
    },
    {
      "id": "28f6edeb-f7c1-4572-b8b2-6bfa79df43c3",
      "cell_type": "markdown",
      "source": "### **Example 2: Solve $\\cos(x) = -0.5 $ for  $ x $ in [0, 2π]**",
      "metadata": {}
    },
    {
      "id": "430a89f1-4125-4a3b-aebd-4d383e151f6e",
      "cell_type": "code",
      "source": "y = -0.5\nx1 = np.arccos(y)\nx2 = 2 * np.pi - x1\n\nprint(\"x1 (degrees):\", np.rad2deg(x1))\nprint(\"x2 (degrees):\", np.rad2deg(x2))",
      "metadata": {
        "trusted": true
      },
      "outputs": [
        {
          "name": "stdout",
          "output_type": "stream",
          "text": "x1 (degrees): 120.00000000000001\nx2 (degrees): 239.99999999999997\n"
        }
      ],
      "execution_count": 4
    },
    {
      "id": "d57ae9e5-9063-4db8-8f44-94f121b37082",
      "cell_type": "markdown",
      "source": "## 4. **Using Inverse Trigonometric Functions**\n\nInverse functions allow us to find angles given a value.\n\n- `np.arcsin(y)` returns an angle whose sine is `y`\n- `np.arccos(y)` returns an angle whose cosine is `y`\n- `np.arctan(y)` returns an angle whose tangent is `y`\n\nAll return values in radians. To convert to degrees, use `np.rad2deg()`.",
      "metadata": {}
    },
    {
      "id": "7fd6b558-9fc8-4bef-a6da-9d38a495be5c",
      "cell_type": "markdown",
      "source": "### **Example 3: Find the angle whose tangent is 1**",
      "metadata": {}
    },
    {
      "id": "f0ab92ae-8e06-4743-a283-940fddf54c5b",
      "cell_type": "code",
      "source": "y = 1\nx = np.arctan(y)\nprint(\"Angle (radians):\", x)\nprint(\"Angle (degrees):\", np.rad2deg(x))",
      "metadata": {
        "trusted": true
      },
      "outputs": [
        {
          "name": "stdout",
          "output_type": "stream",
          "text": "Angle (radians): 0.7853981633974483\nAngle (degrees): 45.0\n"
        }
      ],
      "execution_count": 5
    },
    {
      "id": "a0470313-49d7-4ff1-b3dc-4ad5feccd9f9",
      "cell_type": "markdown",
      "source": "## 5. **Solving Equations Using Identities**\n\nSuppose you have:\n\n$$\n2\\sin(x) - 1 = 0\n$$\n\nSolve for $ x $:",
      "metadata": {}
    },
    {
      "id": "862af042-9369-4268-a17c-82c7cff2be02",
      "cell_type": "code",
      "source": "from numpy import arcsin, pi, rad2deg\n\n# Rearranged: sin(x) = 0.5\nx1 = arcsin(0.5)\nx2 = pi - x1\n\nprint(\"x1 (degrees):\", rad2deg(x1))\nprint(\"x2 (degrees):\", rad2deg(x2))",
      "metadata": {
        "trusted": true
      },
      "outputs": [
        {
          "name": "stdout",
          "output_type": "stream",
          "text": "x1 (degrees): 30.000000000000004\nx2 (degrees): 149.99999999999997\n"
        }
      ],
      "execution_count": 6
    },
    {
      "id": "be9d2682-17f8-4f28-87d6-524fc92ea3ee",
      "cell_type": "markdown",
      "source": "## 6. **General Solutions**\n\nTrigonometric equations have infinitely many solutions. For example, for $\\sin(x) = 0.5$:\n\n$$\nx = \\arcsin(0.5) + 2\\pi n \\quad \\text{or} \\quad x = \\pi - \\arcsin(0.5) + 2\\pi n,\\ n \\in \\mathbb{Z}\n$$",
      "metadata": {}
    },
    {
      "id": "8794c1b0-89fc-43f5-9824-186e001bcc21",
      "cell_type": "markdown",
      "source": "## 7. **Summary Table: Python/NumPy Trig Functions**\n\n| Function      | NumPy Command    | Inverse Function  | NumPy Command     |\n|---------------|-----------------|-------------------|-------------------|\n| Sine          | `np.sin(x)`     | arcsin            | `np.arcsin(y)`    |\n| Cosine        | `np.cos(x)`     | arccos            | `np.arccos(y)`    |\n| Tangent       | `np.tan(x)`     | arctan            | `np.arctan(y)`    |",
      "metadata": {}
    },
    {
      "id": "983cb8ae-9ee6-499e-8aa9-d795d9deb344",
      "cell_type": "markdown",
      "source": "**References:**\n- [NumPy Trigonometric Functions Documentation](https://numpy.org/doc/stable/reference/routines.math.html#trigonometric-functions)\n- [Trigonometric Identities - Wikipedia](https://en.wikipedia.org/wiki/List_of_trigonometric_identities)",
      "metadata": {}
    },
    {
      "id": "4866f65f-532d-486a-b8f2-56543dc4b184",
      "cell_type": "markdown",
      "source": "# [Trigonometry Context](./README.md)",
      "metadata": {}
    }
  ]
}