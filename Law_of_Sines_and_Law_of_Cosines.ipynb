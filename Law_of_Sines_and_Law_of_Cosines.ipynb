{
  "metadata": {
    "kernelspec": {
      "name": "python",
      "display_name": "Python (Pyodide)",
      "language": "python"
    },
    "language_info": {
      "codemirror_mode": {
        "name": "python",
        "version": 3
      },
      "file_extension": ".py",
      "mimetype": "text/x-python",
      "name": "python",
      "nbconvert_exporter": "python",
      "pygments_lexer": "ipython3",
      "version": "3.8"
    }
  },
  "nbformat_minor": 5,
  "nbformat": 4,
  "cells": [
    {
      "id": "3ff5e4c1-d6eb-48d8-848a-6d552aedadf4",
      "cell_type": "markdown",
      "source": "# Trigonometry Tutorial Using Python: Law of Sines & Law of Cosines\n\nIn this tutorial, you'll learn how to solve non-right triangles using Python and the **Law of Sines** and **Law of Cosines**. These laws are essential for solving triangles that do **not** contain a right angle.\n\n---",
      "metadata": {}
    },
    {
      "id": "8b0ba0e6-914b-4a81-bf4a-bae94cc7b72b",
      "cell_type": "markdown",
      "source": "## 1. **Law of Sines**\n\nFor any triangle $ABC$ with sides $a, b, c$ opposite angles $A, B, C$:\n\n$$\n\\frac{a}{\\sin A} = \\frac{b}{\\sin B} = \\frac{c}{\\sin C}\n$$\n\nYou can use this law when you know:\n- Two angles and one side (AAS or ASA)\n- Two sides and a non-included angle (SSA)\n\n### **Example: Given $a=7$, $A=30^\\circ$, $B=45^\\circ$, find $b$:**",
      "metadata": {}
    },
    {
      "id": "cd984edc-9507-4c38-bd81-48a7b1f56416",
      "cell_type": "code",
      "source": "import numpy as np\n\na = 7\nA = np.deg2rad(30)\nB = np.deg2rad(45)\n\n# Law of Sines: a/sin(A) = b/sin(B)\nb = a * np.sin(B) / np.sin(A)\nprint(f\"b = {b:.2f}\")",
      "metadata": {
        "trusted": true
      },
      "outputs": [
        {
          "name": "stdout",
          "output_type": "stream",
          "text": "b = 9.90\n"
        }
      ],
      "execution_count": 1
    },
    {
      "id": "caa287ee-79fa-40ae-99cc-34d95fe880a9",
      "cell_type": "markdown",
      "source": "## 2. **Law of Cosines**\n\nFor any triangle $ABC$:\n\n$$\nc^2 = a^2 + b^2 - 2ab\\cos C\n$$\n\nYou can use this law when you know:\n- Two sides and the included angle (SAS)\n- All three sides (SSS)\n\n### **Example: Given $a=5$, $b=6$, $C=60^\\circ$, find $c$:**",
      "metadata": {}
    },
    {
      "id": "f6293da4-184b-4207-a63c-8af8a4075c0e",
      "cell_type": "code",
      "source": "import numpy as np\n\na = 5\nb = 6\nC = np.deg2rad(60)\n\n# Law of Cosines\nc = np.sqrt(a**2 + b**2 - 2*a*b*np.cos(C))\nprint(f\"c = {c:.2f}\")",
      "metadata": {
        "trusted": true
      },
      "outputs": [
        {
          "name": "stdout",
          "output_type": "stream",
          "text": "c = 5.57\n"
        }
      ],
      "execution_count": 3
    },
    {
      "id": "5e1c5079-2473-4a98-a077-945d750c0d7c",
      "cell_type": "markdown",
      "source": "## 3. **Finding Angles with Law of Cosines**\n\nIf you know all sides $a$, $b$, $c$, you can find an angle:\n\n$$\n\\cos C = \\frac{a^2 + b^2 - c^2}{2ab}\n$$\n\n### **Example: Given $a=5$, $b=6$, $c=7$, find $C$:**",
      "metadata": {}
    },
    {
      "id": "b20f2f11-e171-4698-b8fb-38252c045058",
      "cell_type": "code",
      "source": "import numpy as np\n\na = 5\nb = 6\nc = 7\n\n# Solve for angle C (in radians)\ncos_C = (a**2 + b**2 - c**2) / (2 * a * b)\nC = np.arccos(cos_C)\nprint(f\"C (degrees) = {np.rad2deg(C):.2f}\")",
      "metadata": {
        "trusted": true
      },
      "outputs": [
        {
          "name": "stdout",
          "output_type": "stream",
          "text": "C (degrees) = 78.46\n"
        }
      ],
      "execution_count": 5
    },
    {
      "id": "0c5d222a-6b4b-442c-846d-5ed5c4bc6bfc",
      "cell_type": "markdown",
      "source": "## 4. **Solving an Entire Triangle Example**\n\n**Given:**  \n- $a = 8$  \n- $b = 5$  \n- $C = 40^\\circ$\n\n**Find:** Side $c$, Angles $A$ and $B$",
      "metadata": {}
    },
    {
      "id": "63512f33-b8fc-45fc-868c-e62c09f5c59f",
      "cell_type": "code",
      "source": "import numpy as np\n\na = 8\nb = 5\nC = np.deg2rad(40)\n\n# Find side c\nc = np.sqrt(a**2 + b**2 - 2*a*b*np.cos(C))\n\n# Find angle A using Law of Sines\nA = np.arcsin(a * np.sin(C) / c)\n\n# Angle B from triangle sum\nB = np.pi - A - C\n\nprint(f\"c = {c:.2f}\")\nprint(f\"A (degrees) = {np.rad2deg(A):.2f}\")\nprint(f\"B (degrees) = {np.rad2deg(B):.2f}\")",
      "metadata": {
        "trusted": true
      },
      "outputs": [
        {
          "name": "stdout",
          "output_type": "stream",
          "text": "c = 5.26\nA (degrees) = 77.62\nB (degrees) = 62.38\n"
        }
      ],
      "execution_count": 2
    },
    {
      "id": "b32e374f-0bbc-497e-bf49-e3a0eb819290",
      "cell_type": "markdown",
      "source": "## 5. **Summary Table**\n\n| Law           | Formula                                                                 | Use Case                   |\n|---------------|------------------------------------------------------------------------|----------------------------|\n| Law of Sines  | $ \\frac{a}{\\sin A} = \\frac{b}{\\sin B} = \\frac{c}{\\sin C} $           | AAS, ASA, SSA              |\n| Law of Cosines| $ c^2 = a^2 + b^2 - 2ab\\cos C $ or $ \\cos C = \\frac{a^2+b^2-c^2}{2ab} $ | SAS, SSS            |\n",
      "metadata": {}
    },
    {
      "id": "4e96e66f-95a8-464b-aa98-0e484edc3f46",
      "cell_type": "markdown",
      "source": "**References:**\n- [NumPy Documentation – Trigonometric Functions](https://numpy.org/doc/stable/reference/routines.math.html#trigonometric-functions)\n- [Law of Sines](https://en.wikipedia.org/wiki/Law_of_sines)\n- [Law of Cosines](https://en.wikipedia.org/wiki/Law_of_cosines)\n",
      "metadata": {}
    },
    {
      "id": "c74e5e0f-d23c-4995-bc06-e4e8a2d6226a",
      "cell_type": "markdown",
      "source": "# [Trigonometry Context](./README.md)",
      "metadata": {}
    }
  ]
}