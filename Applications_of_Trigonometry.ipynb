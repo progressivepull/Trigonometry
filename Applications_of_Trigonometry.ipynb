{
  "metadata": {
    "kernelspec": {
      "name": "python",
      "display_name": "Python (Pyodide)",
      "language": "python"
    },
    "language_info": {
      "codemirror_mode": {
        "name": "python",
        "version": 3
      },
      "file_extension": ".py",
      "mimetype": "text/x-python",
      "name": "python",
      "nbconvert_exporter": "python",
      "pygments_lexer": "ipython3",
      "version": "3.8"
    }
  },
  "nbformat_minor": 5,
  "nbformat": 4,
  "cells": [
    {
      "id": "766eae26-72b4-4ecc-a417-a6ab0b85e80d",
      "cell_type": "markdown",
      "source": "# Applications of Trigonometry Using Python\n\nTrigonometry is widely used in real-world scenarios such as measuring heights, calculating distances, and navigation. In this tutorial, we’ll explore how to solve these problems using Python and the NumPy library.\n\n---",
      "metadata": {}
    },
    {
      "id": "efeeaa85-f850-48b0-b493-23afd50e6a73",
      "cell_type": "markdown",
      "source": "## 1. **Measuring Heights Using Trigonometry**\n\nSuppose you want to find the height of a building. You stand 50 meters away from the building and measure the angle of elevation to the top as 35°.\n\n**Diagram:**\n```\n    |\\\n    | \\\n h  |  \\  (building)\n    |   \\\n    |____\\\n      d\n```\n- $ h $: height of building\n- $ d $: distance from the building (50 m)\n\n**Formula:**  \n$$\n\\tan(\\theta) = \\frac{h}{d}\n\\implies h = d \\times \\tan(\\theta)\n$$",
      "metadata": {}
    },
    {
      "id": "bee456e1-86fb-4587-b25f-8b106fb17119",
      "cell_type": "code",
      "source": "import numpy as np\n\nd = 50  # distance in meters\ntheta_deg = 35  # angle in degrees\ntheta_rad = np.deg2rad(theta_deg)\nh = d * np.tan(theta_rad)\nprint(f\"Height of the building: {h:.2f} meters\")",
      "metadata": {
        "trusted": true
      },
      "outputs": [
        {
          "name": "stdout",
          "output_type": "stream",
          "text": "Height of the building: 35.01 meters\n"
        }
      ],
      "execution_count": 1
    },
    {
      "id": "456ea645-f164-4713-8993-145381bc7084",
      "cell_type": "markdown",
      "source": "## 2. **Finding Distance Across a River**\n\nYou're on one side of a river and want to know its width. From a point, you spot a tree directly across and measure the angle between your line of sight to the tree and the riverbank as 60°. You then walk 40 meters along the bank and measure the angle again; now it's 30°.\n\nThis is a classic triangulation problem.\n\n**Diagram:**\n```\nA (start) ----------- B (after 40m walk)\n  \\                  /\n   \\                /\n    \\              /\n     \\            /\n      C (tree)\n```\n\n**Law of Sines:**  \n$$\n\\frac{AB}{\\sin(\\angle ACB)} = \\frac{AC}{\\sin(\\angle ABC)}\n$$\n- $ AB = 40 $ meters\n- $ \\angle BAC = 60^\\circ $\n- $ \\angle ABC = 30^\\circ $\n- $ \\angle ACB = 180^\\circ - 60^\\circ - 30^\\circ = 90^\\circ $",
      "metadata": {}
    },
    {
      "id": "8b4ebc40-6778-4179-9090-ad38b8a527ad",
      "cell_type": "code",
      "source": "import numpy as np\n\nAB = 40\nangle_A = np.deg2rad(60)\nangle_B = np.deg2rad(30)\nangle_C = np.deg2rad(90)\n\n# AC = distance across river\nAC = AB * np.sin(angle_B) / np.sin(angle_C)\nprint(f\"Width of the river: {AC:.2f} meters\")",
      "metadata": {
        "trusted": true
      },
      "outputs": [
        {
          "name": "stdout",
          "output_type": "stream",
          "text": "Width of the river: 20.00 meters\n"
        }
      ],
      "execution_count": 2
    },
    {
      "id": "6dd77911-c29b-4f99-8d65-6ba02e64a7d0",
      "cell_type": "markdown",
      "source": "## 3. **Navigation Using Bearings**\n\nA boat leaves port and sails 10 km on a bearing of 070°. It then changes course and sails 8 km on a bearing of 120°. How far is the boat from the port?\n\n**Steps:**\n1. Convert bearings to standard angles.\n2. Use the Law of Cosines to find the distance.",
      "metadata": {}
    },
    {
      "id": "7d1576fa-92b6-4d2e-8f48-3f5734a73974",
      "cell_type": "code",
      "source": "import numpy as np\n\na = 10  # first leg (km)\nb = 8   # second leg (km)\n# Change in bearing = 120° - 70° = 50°\n# The angle at the port is 180° - 50° = 130°\nC = np.deg2rad(130)\n\n# Law of cosines: c^2 = a^2 + b^2 - 2ab*cos(C)\nc = np.sqrt(a**2 + b**2 - 2*a*b*np.cos(C))\nprint(f\"Distance from port: {c:.2f} km\")",
      "metadata": {
        "trusted": true
      },
      "outputs": [
        {
          "name": "stdout",
          "output_type": "stream",
          "text": "Distance from port: 16.34 km\n"
        }
      ],
      "execution_count": 3
    },
    {
      "id": "df119f8e-7d9f-4f2c-90ab-89b1f9f1f2d2",
      "cell_type": "markdown",
      "source": "## 4. **Summary Table: Key Trigonometric Applications**\n\n| Application            | Formula Used                                     | Python Function    |\n|------------------------|--------------------------------------------------|--------------------|\n| Height from angle      | $ h = d \\cdot \\tan(\\theta) $                   | `np.tan`           |\n| Distance (triangulate) | Law of Sines: $ \\frac{a}{\\sin A} = ... $       | `np.sin`, `np.deg2rad` |\n| Navigation             | Law of Cosines: $ c^2 = a^2 + b^2 - 2ab\\cos C $| `np.cos`, `np.sqrt` |\n\n---",
      "metadata": {}
    },
    {
      "id": "04eecc19-1654-4a32-8c01-fbfea155ec85",
      "cell_type": "markdown",
      "source": "**References:**\n- [NumPy Trigonometric Functions Documentation](https://numpy.org/doc/stable/reference/routines.math.html#trigonometric-functions)\n- [Law of Sines and Cosines](https://en.wikipedia.org/wiki/Law_of_sines)",
      "metadata": {}
    },
    {
      "id": "c5276255-314c-4ffb-9534-45aab9943278",
      "cell_type": "markdown",
      "source": "# [Trigonometry Context](./README.md)",
      "metadata": {}
    }
  ]
}