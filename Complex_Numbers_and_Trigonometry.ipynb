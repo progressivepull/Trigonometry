{
  "metadata": {
    "kernelspec": {
      "name": "python",
      "display_name": "Python (Pyodide)",
      "language": "python"
    },
    "language_info": {
      "codemirror_mode": {
        "name": "python",
        "version": 3
      },
      "file_extension": ".py",
      "mimetype": "text/x-python",
      "name": "python",
      "nbconvert_exporter": "python",
      "pygments_lexer": "ipython3",
      "version": "3.8"
    }
  },
  "nbformat_minor": 5,
  "nbformat": 4,
  "cells": [
    {
      "id": "8f2ac56f-3d47-475c-9e82-f2642e41812d",
      "cell_type": "markdown",
      "source": "# Trigonometry Tutorial Using Python: Complex Numbers & Trigonometry\n\nThis tutorial introduces how trigonometry and complex numbers work together, focusing on **Euler’s formula**, **De Moivre’s theorem**, and their applications. We'll use Python (with NumPy and the built-in `cmath` module) to illustrate each concept.\n\n---",
      "metadata": {}
    },
    {
      "id": "d5cbd008-8920-4621-9173-35b718f445ba",
      "cell_type": "markdown",
      "source": "## 1. **Euler’s Formula**\n\nEuler’s formula connects complex exponentials and trigonometric functions:\n\n$$\ne^{ix} = \\cos(x) + i\\sin(x)\n$$\n\nwhere $i$ is the imaginary unit ($i^2 = -1$), and $x$ is in radians.\n\n**Python Example:**",
      "metadata": {}
    },
    {
      "id": "dda06034-12fb-47b8-9f9c-f97af1d9259f",
      "cell_type": "code",
      "source": "import numpy as np\n\nx = np.pi / 4  # 45 degrees\nz = np.exp(1j * x)\nprint(\"e^{ix} =\", z)\nprint(\"cos(x) + i sin(x) =\", np.cos(x) + 1j * np.sin(x))",
      "metadata": {
        "trusted": true
      },
      "outputs": [
        {
          "name": "stdout",
          "output_type": "stream",
          "text": "e^{ix} = (0.7071067811865476+0.7071067811865475j)\ncos(x) + i sin(x) = (0.7071067811865476+0.7071067811865475j)\n"
        }
      ],
      "execution_count": 1
    },
    {
      "id": "2512c975-3fe9-4487-a9d5-d4de4fa8fc8b",
      "cell_type": "markdown",
      "source": "## 2. **De Moivre’s Theorem**\n\nDe Moivre’s theorem generalizes powers and roots of complex numbers:\n\n$$\n(\\cos x + i\\sin x)^n = \\cos(nx) + i\\sin(nx)\n$$\n\nOr, equivalently, using Euler’s formula:\n\n$$\n(e^{ix})^n = e^{inx}\n$$\n\n**Python Example:**",
      "metadata": {}
    },
    {
      "id": "ed78c934-4214-4af0-b344-63900f236502",
      "cell_type": "code",
      "source": "n = 3\nx = np.pi / 6  # 30 degrees\n\n# Left side: (cos x + i sin x)^n\nlhs = (np.cos(x) + 1j * np.sin(x)) ** n\n\n# Right side: cos(n x) + i sin(n x)\nrhs = np.cos(n * x) + 1j * np.sin(n * x)\n\nprint(\"LHS:\", lhs)\nprint(\"RHS:\", rhs)",
      "metadata": {
        "trusted": true
      },
      "outputs": [
        {
          "name": "stdout",
          "output_type": "stream",
          "text": "LHS: (2.7755575615628914e-16+1j)\nRHS: (6.123233995736766e-17+1j)\n"
        }
      ],
      "execution_count": 2
    },
    {
      "id": "5cd12397-4404-40dc-8ff5-7a47ed505d1d",
      "cell_type": "markdown",
      "source": "## 3. **Applications**\n\n### 3.1. **Finding Complex Roots**\n\nFind all cube roots of $1$:\n\n$$\nz^3 = 1 \\implies z = e^{2\\pi i k/3} \\quad (k = 0, 1, 2)\n$$\n\n**Python Example:**",
      "metadata": {}
    },
    {
      "id": "304b5c2a-7f34-419a-ae49-c977d6ec0a84",
      "cell_type": "code",
      "source": "roots = [np.exp(2j * np.pi * k / 3) for k in range(3)]\nfor k, root in enumerate(roots):\n    print(f\"Root {k}: {root}\")",
      "metadata": {
        "trusted": true
      },
      "outputs": [
        {
          "name": "stdout",
          "output_type": "stream",
          "text": "Root 0: (1+0j)\nRoot 1: (-0.4999999999999998+0.8660254037844387j)\nRoot 2: (-0.5000000000000004-0.8660254037844385j)\n"
        }
      ],
      "execution_count": 3
    },
    {
      "id": "396e2759-302a-4afb-a677-520da46b01eb",
      "cell_type": "markdown",
      "source": "### 3.2. **Expressing Trigonometric Functions with Exponentials**\n\nEuler’s formula gives:\n\n$$\n\\cos(x) = \\frac{e^{ix} + e^{-ix}}{2}\n$$\n$$\n\\sin(x) = \\frac{e^{ix} - e^{-ix}}{2i}\n$$\n\n**Python Example:**",
      "metadata": {}
    },
    {
      "id": "d7751a66-9f31-47e1-8851-3be44928f4ea",
      "cell_type": "code",
      "source": "x = np.pi / 3  # 60 degrees\n\ncos_x = (np.exp(1j*x) + np.exp(-1j*x))/2\nsin_x = (np.exp(1j*x) - np.exp(-1j*x))/(2j)\n\nprint(\"cos(x) =\", cos_x.real)\nprint(\"sin(x) =\", sin_x.real)",
      "metadata": {
        "trusted": true
      },
      "outputs": [
        {
          "name": "stdout",
          "output_type": "stream",
          "text": "cos(x) = 0.5000000000000001\nsin(x) = 0.8660254037844386\n"
        }
      ],
      "execution_count": 5
    },
    {
      "id": "f60e5c97-6256-41a8-8379-e6dd061be325",
      "cell_type": "markdown",
      "source": "### 3.3. **Rotating a Point in the Plane**\n\nTo rotate a vector $(x, y)$ by angle $\\theta$:\n\n$$\n(x + iy)' = (x + iy) \\cdot e^{i\\theta}\n$$\n\n**Python Example:**",
      "metadata": {}
    },
    {
      "id": "fb6b6ec5-80c8-485d-941d-acb2c925bda9",
      "cell_type": "code",
      "source": "z = 1 + 1j  # point (1, 1)\ntheta = np.pi / 2  # 90 degrees\n\nrotated = z * np.exp(1j * theta)\nprint(\"Rotated point:\", rotated)",
      "metadata": {
        "trusted": true
      },
      "outputs": [
        {
          "name": "stdout",
          "output_type": "stream",
          "text": "Rotated point: (-0.9999999999999999+1j)\n"
        }
      ],
      "execution_count": 6
    },
    {
      "id": "d64e864b-f605-4e07-a740-aafc80c50ea8",
      "cell_type": "markdown",
      "source": "## 4. **Summary Table**\n\n| Concept                | Formula                                              | Python               |\n|------------------------|-----------------------------------------------------|----------------------|\n| Euler’s Formula        | $e^{ix} = \\cos x + i \\sin x$                      | `np.exp(1j * x)`     |\n| De Moivre’s Theorem    | $(\\cos x + i \\sin x)^n = \\cos(nx) + i\\sin(nx)$    | `(np.cos(x)+1j*np.sin(x))**n` |\n| nth Roots of Unity     | $e^{2\\pi i k/n}$                                  | `np.exp(2j*np.pi*k/n)`|\n| Rotation               | $z' = z e^{i\\theta}$                              | `z * np.exp(1j*theta)` |",
      "metadata": {}
    },
    {
      "id": "2d6f6cb8-bcf2-4975-aa11-79f2d3a445d7",
      "cell_type": "markdown",
      "source": "**References:**\n- [NumPy — Mathematical functions](https://numpy.org/doc/stable/reference/routines.math.html)\n- [Python `cmath` module](https://docs.python.org/3/library/cmath.html)\n- [Euler’s formula (Wikipedia)](https://en.wikipedia.org/wiki/Euler%27s_formula)\n- [De Moivre’s theorem (Wikipedia)](https://en.wikipedia.org/wiki/De_Moivre%27s_formula)",
      "metadata": {}
    },
    {
      "id": "3ff32722-7d99-42ad-a6e0-86ad5357a968",
      "cell_type": "markdown",
      "source": "# [Trigonometry Context](./README.md)",
      "metadata": {}
    }
  ]
}